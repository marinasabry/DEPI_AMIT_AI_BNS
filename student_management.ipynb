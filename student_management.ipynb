{
 "cells": [
  {
   "cell_type": "code",
   "execution_count": 9,
   "id": "00a7bbce",
   "metadata": {},
   "outputs": [
    {
     "name": "stdout",
     "output_type": "stream",
     "text": [
      "Collecting matplotlib\n",
      "  Downloading matplotlib-3.10.5-cp312-cp312-win_amd64.whl.metadata (11 kB)\n",
      "Collecting contourpy>=1.0.1 (from matplotlib)\n",
      "  Downloading contourpy-1.3.3-cp312-cp312-win_amd64.whl.metadata (5.5 kB)\n",
      "Collecting cycler>=0.10 (from matplotlib)\n",
      "  Downloading cycler-0.12.1-py3-none-any.whl.metadata (3.8 kB)\n",
      "Collecting fonttools>=4.22.0 (from matplotlib)\n",
      "  Downloading fonttools-4.59.1-cp312-cp312-win_amd64.whl.metadata (111 kB)\n",
      "Collecting kiwisolver>=1.3.1 (from matplotlib)\n",
      "  Downloading kiwisolver-1.4.9-cp312-cp312-win_amd64.whl.metadata (6.4 kB)\n",
      "Requirement already satisfied: numpy>=1.23 in c:\\users\\khaled\\depi_amit_a1_bns3\\depi_amit_a1_bns3\\.env\\lib\\site-packages (from matplotlib) (2.3.1)\n",
      "Requirement already satisfied: packaging>=20.0 in c:\\users\\khaled\\depi_amit_a1_bns3\\depi_amit_a1_bns3\\.env\\lib\\site-packages (from matplotlib) (25.0)\n",
      "Requirement already satisfied: pillow>=8 in c:\\users\\khaled\\depi_amit_a1_bns3\\depi_amit_a1_bns3\\.env\\lib\\site-packages (from matplotlib) (11.3.0)\n",
      "Collecting pyparsing>=2.3.1 (from matplotlib)\n",
      "  Downloading pyparsing-3.2.3-py3-none-any.whl.metadata (5.0 kB)\n",
      "Requirement already satisfied: python-dateutil>=2.7 in c:\\users\\khaled\\depi_amit_a1_bns3\\depi_amit_a1_bns3\\.env\\lib\\site-packages (from matplotlib) (2.9.0.post0)\n",
      "Requirement already satisfied: six>=1.5 in c:\\users\\khaled\\depi_amit_a1_bns3\\depi_amit_a1_bns3\\.env\\lib\\site-packages (from python-dateutil>=2.7->matplotlib) (1.17.0)\n",
      "Downloading matplotlib-3.10.5-cp312-cp312-win_amd64.whl (8.1 MB)\n",
      "   ---------------------------------------- 0.0/8.1 MB ? eta -:--:--\n",
      "   - -------------------------------------- 0.3/8.1 MB ? eta -:--:--\n",
      "   --- ------------------------------------ 0.8/8.1 MB 2.8 MB/s eta 0:00:03\n",
      "   ----- ---------------------------------- 1.0/8.1 MB 2.4 MB/s eta 0:00:03\n",
      "   ------- -------------------------------- 1.6/8.1 MB 2.2 MB/s eta 0:00:04\n",
      "   ------------ --------------------------- 2.6/8.1 MB 2.8 MB/s eta 0:00:02\n",
      "   -------------- ------------------------- 2.9/8.1 MB 2.8 MB/s eta 0:00:02\n",
      "   ---------------- ----------------------- 3.4/8.1 MB 2.5 MB/s eta 0:00:02\n",
      "   ---------------- ----------------------- 3.4/8.1 MB 2.5 MB/s eta 0:00:02\n",
      "   ------------------ --------------------- 3.7/8.1 MB 2.2 MB/s eta 0:00:02\n",
      "   ------------------- -------------------- 3.9/8.1 MB 2.1 MB/s eta 0:00:02\n",
      "   -------------------- ------------------- 4.2/8.1 MB 2.0 MB/s eta 0:00:02\n",
      "   --------------------- ------------------ 4.5/8.1 MB 1.9 MB/s eta 0:00:02\n",
      "   ----------------------- ---------------- 4.7/8.1 MB 1.8 MB/s eta 0:00:02\n",
      "   ------------------------ --------------- 5.0/8.1 MB 1.7 MB/s eta 0:00:02\n",
      "   ------------------------- -------------- 5.2/8.1 MB 1.7 MB/s eta 0:00:02\n",
      "   --------------------------- ------------ 5.5/8.1 MB 1.7 MB/s eta 0:00:02\n",
      "   ---------------------------- ----------- 5.8/8.1 MB 1.6 MB/s eta 0:00:02\n",
      "   ---------------------------- ----------- 5.8/8.1 MB 1.6 MB/s eta 0:00:02\n",
      "   ------------------------------- -------- 6.3/8.1 MB 1.6 MB/s eta 0:00:02\n",
      "   -------------------------------- ------- 6.6/8.1 MB 1.6 MB/s eta 0:00:01\n",
      "   --------------------------------- ------ 6.8/8.1 MB 1.5 MB/s eta 0:00:01\n",
      "   ---------------------------------- ----- 7.1/8.1 MB 1.5 MB/s eta 0:00:01\n",
      "   ------------------------------------ --- 7.3/8.1 MB 1.5 MB/s eta 0:00:01\n",
      "   ------------------------------------- -- 7.6/8.1 MB 1.5 MB/s eta 0:00:01\n",
      "   -------------------------------------- - 7.9/8.1 MB 1.5 MB/s eta 0:00:01\n",
      "   ---------------------------------------- 8.1/8.1 MB 1.5 MB/s eta 0:00:00\n",
      "Downloading contourpy-1.3.3-cp312-cp312-win_amd64.whl (226 kB)\n",
      "Downloading cycler-0.12.1-py3-none-any.whl (8.3 kB)\n",
      "Downloading fonttools-4.59.1-cp312-cp312-win_amd64.whl (2.3 MB)\n",
      "   ---------------------------------------- 0.0/2.3 MB ? eta -:--:--\n",
      "   ---------------------------------------- 0.0/2.3 MB ? eta -:--:--\n",
      "   ---- ----------------------------------- 0.3/2.3 MB ? eta -:--:--\n",
      "   --------- ------------------------------ 0.5/2.3 MB 1.1 MB/s eta 0:00:02\n",
      "   ------------- -------------------------- 0.8/2.3 MB 1.2 MB/s eta 0:00:02\n",
      "   ------------------ --------------------- 1.0/2.3 MB 1.2 MB/s eta 0:00:02\n",
      "   ----------------------- ---------------- 1.3/2.3 MB 1.2 MB/s eta 0:00:01\n",
      "   --------------------------- ------------ 1.6/2.3 MB 1.2 MB/s eta 0:00:01\n",
      "   -------------------------------- ------- 1.8/2.3 MB 1.2 MB/s eta 0:00:01\n",
      "   ------------------------------------- -- 2.1/2.3 MB 1.2 MB/s eta 0:00:01\n",
      "   ---------------------------------------- 2.3/2.3 MB 1.2 MB/s eta 0:00:00\n",
      "Downloading kiwisolver-1.4.9-cp312-cp312-win_amd64.whl (73 kB)\n",
      "Downloading pyparsing-3.2.3-py3-none-any.whl (111 kB)\n",
      "Installing collected packages: pyparsing, kiwisolver, fonttools, cycler, contourpy, matplotlib\n",
      "Successfully installed contourpy-1.3.3 cycler-0.12.1 fonttools-4.59.1 kiwisolver-1.4.9 matplotlib-3.10.5 pyparsing-3.2.3\n",
      "Note: you may need to restart the kernel to use updated packages.\n"
     ]
    },
    {
     "name": "stderr",
     "output_type": "stream",
     "text": [
      "\n",
      "[notice] A new release of pip is available: 24.3.1 -> 25.2\n",
      "[notice] To update, run: python.exe -m pip install --upgrade pip\n"
     ]
    }
   ],
   "source": [
    "pip install matplotlib"
   ]
  },
  {
   "cell_type": "code",
   "execution_count": 3,
   "id": "55b76c12",
   "metadata": {},
   "outputs": [
    {
     "name": "stdout",
     "output_type": "stream",
     "text": [
      "Collecting tabulate\n",
      "  Downloading tabulate-0.9.0-py3-none-any.whl.metadata (34 kB)\n",
      "Downloading tabulate-0.9.0-py3-none-any.whl (35 kB)\n",
      "Installing collected packages: tabulate\n",
      "Successfully installed tabulate-0.9.0\n",
      "Note: you may need to restart the kernel to use updated packages.\n"
     ]
    },
    {
     "name": "stderr",
     "output_type": "stream",
     "text": [
      "\n",
      "[notice] A new release of pip is available: 24.3.1 -> 25.2\n",
      "[notice] To update, run: python.exe -m pip install --upgrade pip\n"
     ]
    }
   ],
   "source": [
    "pip install tabulate"
   ]
  },
  {
   "cell_type": "code",
   "execution_count": 5,
   "id": "26685f97",
   "metadata": {},
   "outputs": [
    {
     "name": "stdout",
     "output_type": "stream",
     "text": [
      "\n",
      "📌 All Students:\n",
      "✅ Connected to database successfully.\n",
      "+--------------+------------------+-------------------------+------------------+----------------------------+\n",
      "|   student_id | full_name        | email                   | phone            | created_at                 |\n",
      "|--------------+------------------+-------------------------+------------------+----------------------------|\n",
      "|            1 | Shahinda Mostafa | shahinda@example.com    | +20-100-111-2222 | 2025-08-15 20:47:48.082066 |\n",
      "|            2 | Omar Elbaz       | omar.elbaz@example.com  | +20-100-333-4444 | 2025-08-15 20:47:48.082066 |\n",
      "|            3 | Mariam Adel      | mariam.adel@example.com | +20-100-555-6666 | 2025-08-15 20:47:48.082066 |\n",
      "|            4 | Kareem Hany      | kareem.hany@example.com | +20-100-777-8888 | 2025-08-15 20:47:48.082066 |\n",
      "|            5 | Salma Tarek      | salma.tarek@example.com | +20-100-999-0000 | 2025-08-15 20:47:48.082066 |\n",
      "+--------------+------------------+-------------------------+------------------+----------------------------+\n",
      "💾 Results saved to students.csv\n",
      "\n",
      "📌 Students with Grade 'A':\n",
      "✅ Connected to database successfully.\n"
     ]
    },
    {
     "name": "stderr",
     "output_type": "stream",
     "text": [
      "C:\\Users\\Khaled\\AppData\\Local\\Temp\\ipykernel_17584\\2136618668.py:46: UserWarning: pandas only supports SQLAlchemy connectable (engine/connection) or database string URI or sqlite3 DBAPI2 connection. Other DBAPI2 objects are not tested. Please consider using SQLAlchemy.\n",
      "  df = pd.read_sql_query(query, conn)\n",
      "C:\\Users\\Khaled\\AppData\\Local\\Temp\\ipykernel_17584\\2136618668.py:46: UserWarning: pandas only supports SQLAlchemy connectable (engine/connection) or database string URI or sqlite3 DBAPI2 connection. Other DBAPI2 objects are not tested. Please consider using SQLAlchemy.\n",
      "  df = pd.read_sql_query(query, conn)\n"
     ]
    },
    {
     "name": "stdout",
     "output_type": "stream",
     "text": [
      "+--------------+------------------+-------------+-------------+---------+\n",
      "|   student_id | full_name        |   course_id | term        | grade   |\n",
      "|--------------+------------------+-------------+-------------+---------|\n",
      "|            3 | Mariam Adel      |           2 | Spring 2025 | A       |\n",
      "|            2 | Omar Elbaz       |           3 | Spring 2025 | A       |\n",
      "|            1 | Shahinda Mostafa |           1 | Spring 2025 | A       |\n",
      "+--------------+------------------+-------------+-------------+---------+\n",
      "💾 Results saved to grade_a.csv\n",
      "\n",
      "📌 Enrollment Count per Course:\n",
      "✅ Connected to database successfully.\n",
      "+---------------------------+----------------+\n",
      "| course_name               |   enroll_count |\n",
      "|---------------------------+----------------|\n",
      "| Data Analysis with Python |              3 |\n",
      "| Database Systems          |              3 |\n",
      "| Algorithms                |              2 |\n",
      "| Business Intelligence     |              2 |\n",
      "| Operating Systems         |              2 |\n",
      "+---------------------------+----------------+\n",
      "💾 Results saved to course_counts.csv\n",
      "\n",
      "📌 Transcript View:\n",
      "✅ Connected to database successfully.\n",
      "+--------------+------------------+---------------------------+-----------+-------------------+-------------+---------+\n",
      "|   student_id | student          | course                    |   credits | instructor        | term        | grade   |\n",
      "|--------------+------------------+---------------------------+-----------+-------------------+-------------+---------|\n",
      "|            1 | Shahinda Mostafa | Database Systems          |         3 | Dr. Ahmed Samir   | Spring 2025 | A       |\n",
      "|            1 | Shahinda Mostafa | Data Analysis with Python |         4 | Eng. Hala Mansour | Spring 2025 | B+      |\n",
      "|            1 | Shahinda Mostafa | Business Intelligence     |         3 | Dr. Nour El-Din   | Spring 2025 | A-      |\n",
      "|            2 | Omar Elbaz       | Database Systems          |         3 | Dr. Ahmed Samir   | Spring 2025 | B       |\n",
      "|            2 | Omar Elbaz       | Algorithms                |         3 | Dr. Nour El-Din   | Spring 2025 | A       |\n",
      "|            2 | Omar Elbaz       | Operating Systems         |         3 | Dr. Nour El-Din   | Spring 2025 | B-      |\n",
      "|            3 | Mariam Adel      | Data Analysis with Python |         4 | Eng. Hala Mansour | Spring 2025 | A       |\n",
      "|            3 | Mariam Adel      | Algorithms                |         3 | Dr. Nour El-Din   | Spring 2025 | B+      |\n",
      "|            4 | Kareem Hany      | Database Systems          |         3 | Dr. Ahmed Samir   | Spring 2025 | C+      |\n",
      "|            4 | Kareem Hany      | Business Intelligence     |         3 | Dr. Nour El-Din   | Spring 2025 | B       |\n",
      "|            5 | Salma Tarek      | Data Analysis with Python |         4 | Eng. Hala Mansour | Spring 2025 | A-      |\n",
      "|            5 | Salma Tarek      | Operating Systems         |         3 | Dr. Nour El-Din   | Spring 2025 | B+      |\n",
      "+--------------+------------------+---------------------------+-----------+-------------------+-------------+---------+\n",
      "💾 Results saved to transcript.csv\n"
     ]
    }
   ],
   "source": [
    "# =========================================================\n",
    "# Shahinda | Student Management System\n",
    "# Python Integration with PostgreSQL\n",
    "# =========================================================\n",
    "\n",
    "import psycopg2\n",
    "import pandas as pd\n",
    "from tabulate import tabulate\n",
    "\n",
    "# ======== Database Connection Config ========\n",
    "DB_NAME = \"student_management\"\n",
    "DB_USER = \"postgres\"\n",
    "DB_PASSWORD = \"shahinda\"  \n",
    "DB_HOST = \"localhost\"\n",
    "DB_PORT = \"5432\"\n",
    "\n",
    "# ======== Connect to Database ========\n",
    "def get_connection():\n",
    "    \"\"\"Create and return a PostgreSQL database connection.\"\"\"\n",
    "    try:\n",
    "        conn = psycopg2.connect(\n",
    "            dbname=DB_NAME,\n",
    "            user=DB_USER,\n",
    "            password=DB_PASSWORD,\n",
    "            host=DB_HOST,\n",
    "            port=DB_PORT\n",
    "        )\n",
    "        print(\"✅ Connected to database successfully.\")\n",
    "        return conn\n",
    "    except Exception as e:\n",
    "        print(\"❌ Connection failed:\", e)\n",
    "        return None\n",
    "\n",
    "\n",
    "# ======== Function to Run Query and Return DataFrame ========\n",
    "def run_query(query, filename=None):\n",
    "    \"\"\"\n",
    "    Execute SQL query, display results as table, \n",
    "    and optionally export to CSV.\n",
    "    \"\"\"\n",
    "    conn = get_connection()\n",
    "    if conn is None:\n",
    "        return\n",
    "\n",
    "    try:\n",
    "        df = pd.read_sql_query(query, conn)\n",
    "        print(tabulate(df, headers='keys', tablefmt='psql', showindex=False))\n",
    "\n",
    "        # Export to CSV if filename is provided\n",
    "        if filename:\n",
    "            df.to_csv(filename, index=False)\n",
    "            print(f\"💾 Results saved to {filename}\")\n",
    "\n",
    "    except Exception as e:\n",
    "        print(\"❌ Query failed:\", e)\n",
    "    finally:\n",
    "        conn.close()\n",
    "\n",
    "\n",
    "# ======== Example Queries ========\n",
    "# 1. List all students\n",
    "query_students = \"\"\"\n",
    "SELECT student_id, full_name, email, phone, created_at\n",
    "FROM student_mgmt.students\n",
    "ORDER BY student_id;\n",
    "\"\"\"\n",
    "\n",
    "# 2. Students with grade 'A'\n",
    "query_grade_a = \"\"\"\n",
    "SELECT DISTINCT s.student_id, s.full_name, e.course_id, e.term, e.grade\n",
    "FROM student_mgmt.students s\n",
    "JOIN student_mgmt.enrollments e ON e.student_id = s.student_id\n",
    "WHERE e.grade = 'A'\n",
    "ORDER BY s.full_name, e.term;\n",
    "\"\"\"\n",
    "\n",
    "# 3. Enrollment count per course\n",
    "query_course_count = \"\"\"\n",
    "SELECT c.course_name, COUNT(*) AS enroll_count\n",
    "FROM student_mgmt.enrollments e\n",
    "JOIN student_mgmt.courses c ON c.course_id = e.course_id\n",
    "GROUP BY c.course_name\n",
    "ORDER BY enroll_count DESC, c.course_name;\n",
    "\"\"\"\n",
    "\n",
    "# 4. Transcript View (bonus)\n",
    "query_transcript = \"\"\"\n",
    "SELECT * FROM student_mgmt.v_transcript;\n",
    "\"\"\"\n",
    "\n",
    "\n",
    "# ======== Run the Queries ========\n",
    "if __name__ == \"__main__\":\n",
    "    print(\"\\n📌 All Students:\")\n",
    "    run_query(query_students, \"students.csv\")\n",
    "\n",
    "    print(\"\\n📌 Students with Grade 'A':\")\n",
    "    run_query(query_grade_a, \"grade_a.csv\")\n",
    "\n",
    "    print(\"\\n📌 Enrollment Count per Course:\")\n",
    "    run_query(query_course_count, \"course_counts.csv\")\n",
    "\n",
    "    print(\"\\n📌 Transcript View:\")\n",
    "    run_query(query_transcript, \"transcript.csv\")"
   ]
  },
  {
   "cell_type": "code",
   "execution_count": 10,
   "id": "5d1612d8",
   "metadata": {},
   "outputs": [
    {
     "name": "stderr",
     "output_type": "stream",
     "text": [
      "Matplotlib is building the font cache; this may take a moment.\n"
     ]
    },
    {
     "data": {
      "image/png": "[encoded data removed]",
      "text/plain": [
       "<Figure size 640x480 with 1 Axes>"
      ]
     },
     "metadata": {},
     "output_type": "display_data"
    }
   ],
   "source": [
    "# --- Inline display (Notebook/Interactive) ---\n",
    "import matplotlib.pyplot as plt\n",
    "import matplotlib.image as mpimg\n",
    "\n",
    "path = \"c:/Users/Khaled/Downloads/student_management_erd\" \n",
    "img = mpimg.imread(path)\n",
    "plt.figure()\n",
    "plt.imshow(img)\n",
    "plt.axis(\"off\")  # إخفاء المحاور\n",
    "plt.show()"
   ]
  }
 ],
 "metadata": {
  "kernelspec": {
   "display_name": ".env (3.12.9)",
   "language": "python",
   "name": "python3"
  },
  "language_info": {
   "codemirror_mode": {
    "name": "ipython",
    "version": 3
   },
   "file_extension": ".py",
   "mimetype": "text/x-python",
   "name": "python",
   "nbconvert_exporter": "python",
   "pygments_lexer": "ipython3",
   "version": "3.12.9"
  }
 },
 "nbformat": 4,
 "nbformat_minor": 5
}
